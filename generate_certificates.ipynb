{
 "cells": [
  {
   "cell_type": "code",
   "execution_count": 13,
   "metadata": {},
   "outputs": [],
   "source": [
    "import pandas as pd\n",
    "import random\n",
    "\n"
   ]
  },
  {
   "cell_type": "code",
   "execution_count": 14,
   "metadata": {},
   "outputs": [],
   "source": [
    "# these are the columns we would have in our database\n",
    "cgpa = []\n",
    "userId = []\n",
    "school = []\n",
    "department = []"
   ]
  },
  {
   "cell_type": "code",
   "execution_count": 15,
   "metadata": {},
   "outputs": [],
   "source": [
    "def generate_decimal_numbers():\n",
    "    return round(random.uniform(0.0, 5.0), 2)"
   ]
  },
  {
   "cell_type": "code",
   "execution_count": 16,
   "metadata": {},
   "outputs": [],
   "source": [
    "# create a loop of 50 and add random data to the columns above\n",
    "for i in range(1,50):\n",
    "    _cgpa = generate_decimal_numbers()\n",
    "    _school = random.randrange(1,10)\n",
    "    _department = random.randrange(1,20)\n",
    "    # append the various data to their respective lists\n",
    "    userId.append(i)\n",
    "    cgpa.append(_cgpa)\n",
    "    school.append(_school)\n",
    "    department.append(_department)"
   ]
  },
  {
   "cell_type": "code",
   "execution_count": 17,
   "metadata": {},
   "outputs": [
    {
     "data": {
      "text/plain": [
       "[3.04,\n",
       " 0.88,\n",
       " 2.22,\n",
       " 2.23,\n",
       " 3.35,\n",
       " 4.22,\n",
       " 1.95,\n",
       " 2.82,\n",
       " 4.93,\n",
       " 0.92,\n",
       " 3.19,\n",
       " 3.8,\n",
       " 4.79,\n",
       " 2.83,\n",
       " 1.54,\n",
       " 0.32,\n",
       " 3.07,\n",
       " 0.87,\n",
       " 0.96,\n",
       " 4.75,\n",
       " 4.34,\n",
       " 0.17,\n",
       " 2.35,\n",
       " 4.24,\n",
       " 2.92,\n",
       " 1.71,\n",
       " 2.95,\n",
       " 0.86,\n",
       " 4.84,\n",
       " 0.59,\n",
       " 0.61,\n",
       " 0.63,\n",
       " 1.26,\n",
       " 1.21,\n",
       " 1.13,\n",
       " 2.6,\n",
       " 2.65,\n",
       " 1.89,\n",
       " 3.35,\n",
       " 2.32,\n",
       " 0.12,\n",
       " 3.77,\n",
       " 3.43,\n",
       " 0.81,\n",
       " 1.39,\n",
       " 3.9,\n",
       " 4.64,\n",
       " 3.36,\n",
       " 0.94]"
      ]
     },
     "execution_count": 17,
     "metadata": {},
     "output_type": "execute_result"
    }
   ],
   "source": [
    "cgpa"
   ]
  },
  {
   "cell_type": "code",
   "execution_count": 18,
   "metadata": {},
   "outputs": [],
   "source": [
    "data = {\n",
    "    'userId':userId,\n",
    "    'cgpa':cgpa,\n",
    "    'department':department,\n",
    "    'school':school\n",
    "}"
   ]
  },
  {
   "cell_type": "code",
   "execution_count": 19,
   "metadata": {},
   "outputs": [],
   "source": [
    "df = pd.DataFrame(data)"
   ]
  },
  {
   "cell_type": "code",
   "execution_count": 20,
   "metadata": {},
   "outputs": [],
   "source": [
    "df.to_csv('certificate_data.csv',index=False,header=False)"
   ]
  },
  {
   "cell_type": "code",
   "execution_count": null,
   "metadata": {},
   "outputs": [],
   "source": [
    "# these are the commands you would be running for clustering\n",
    "#mahout kmeans -i inputdata/points -c inputdata/clusters -o outputs -dm org.apache.mahout.common.distance.EuclideanDistanceMeasure --clustering -cl -cd 0.1 -ow -x 20 -ow\n",
    "#mahout clusterdump -i outputs/clusters-3-final -o outputs/cluster-dump.txt -p outputs/clusteredPoints -dt sequencefile"
   ]
  }
 ],
 "metadata": {
  "kernelspec": {
   "display_name": "denv",
   "language": "python",
   "name": "python3"
  },
  "language_info": {
   "codemirror_mode": {
    "name": "ipython",
    "version": 3
   },
   "file_extension": ".py",
   "mimetype": "text/x-python",
   "name": "python",
   "nbconvert_exporter": "python",
   "pygments_lexer": "ipython3",
   "version": "3.10.0"
  },
  "orig_nbformat": 4
 },
 "nbformat": 4,
 "nbformat_minor": 2
}
